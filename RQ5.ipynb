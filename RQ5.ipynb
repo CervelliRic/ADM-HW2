{
 "cells": [
  {
   "cell_type": "markdown",
   "metadata": {},
   "source": [
    "#### [RQ5] Does a long distance correlate with the duration of the trip on average? Make a plot that show the dependence between distance and duration of the trip. Then compute the Pearson Coefficient, is it significant? Comment the results you obtain."
   ]
  },
  {
   "cell_type": "code",
   "execution_count": 60,
   "metadata": {},
   "outputs": [],
   "source": [
    "import pandas as pd \n",
    "import matplotlib.pyplot as plt\n",
    "import numpy as np\n",
    "import seaborn as sb \n",
    "from datetime import datetime\n",
    "import scipy\n",
    "from scipy.stats import pearsonr"
   ]
  },
  {
   "cell_type": "code",
   "execution_count": 9,
   "metadata": {},
   "outputs": [],
   "source": [
    "for month in ['01', '02', '03', '04', '05','06']:\n",
    "    data_frame = pd.read_csv('yellow_tripdata_2018-'+month+'.csv',usecols=[1,2,4,7])\n",
    "\n"
   ]
  },
  {
   "cell_type": "code",
   "execution_count": 19,
   "metadata": {},
   "outputs": [],
   "source": [
    "data_frame.head()\n",
    "data_frame=data_frame[data_frame.trip_distance !=0]"
   ]
  },
  {
   "cell_type": "code",
   "execution_count": 20,
   "metadata": {},
   "outputs": [
    {
     "data": {
      "text/plain": [
       "(8653818, 4)"
      ]
     },
     "execution_count": 20,
     "metadata": {},
     "output_type": "execute_result"
    }
   ],
   "source": [
    "data_frame.shape"
   ]
  },
  {
   "cell_type": "code",
   "execution_count": 22,
   "metadata": {},
   "outputs": [
    {
     "data": {
      "text/html": [
       "<div>\n",
       "<style scoped>\n",
       "    .dataframe tbody tr th:only-of-type {\n",
       "        vertical-align: middle;\n",
       "    }\n",
       "\n",
       "    .dataframe tbody tr th {\n",
       "        vertical-align: top;\n",
       "    }\n",
       "\n",
       "    .dataframe thead th {\n",
       "        text-align: right;\n",
       "    }\n",
       "</style>\n",
       "<table border=\"1\" class=\"dataframe\">\n",
       "  <thead>\n",
       "    <tr style=\"text-align: right;\">\n",
       "      <th></th>\n",
       "      <th>LocationID</th>\n",
       "      <th>Borough</th>\n",
       "    </tr>\n",
       "  </thead>\n",
       "  <tbody>\n",
       "    <tr>\n",
       "      <th>0</th>\n",
       "      <td>1</td>\n",
       "      <td>EWR</td>\n",
       "    </tr>\n",
       "    <tr>\n",
       "      <th>1</th>\n",
       "      <td>2</td>\n",
       "      <td>Queens</td>\n",
       "    </tr>\n",
       "    <tr>\n",
       "      <th>2</th>\n",
       "      <td>3</td>\n",
       "      <td>Bronx</td>\n",
       "    </tr>\n",
       "    <tr>\n",
       "      <th>3</th>\n",
       "      <td>4</td>\n",
       "      <td>Manhattan</td>\n",
       "    </tr>\n",
       "    <tr>\n",
       "      <th>4</th>\n",
       "      <td>5</td>\n",
       "      <td>Staten Island</td>\n",
       "    </tr>\n",
       "  </tbody>\n",
       "</table>\n",
       "</div>"
      ],
      "text/plain": [
       "   LocationID        Borough\n",
       "0           1            EWR\n",
       "1           2         Queens\n",
       "2           3          Bronx\n",
       "3           4      Manhattan\n",
       "4           5  Staten Island"
      ]
     },
     "execution_count": 22,
     "metadata": {},
     "output_type": "execute_result"
    }
   ],
   "source": [
    "dfl= pd.read_csv(\"taxi _zone_lookup.csv\", usecols=[0,1])\n",
    "dfl.head()"
   ]
  },
  {
   "cell_type": "code",
   "execution_count": 28,
   "metadata": {},
   "outputs": [
    {
     "data": {
      "text/html": [
       "<div>\n",
       "<style scoped>\n",
       "    .dataframe tbody tr th:only-of-type {\n",
       "        vertical-align: middle;\n",
       "    }\n",
       "\n",
       "    .dataframe tbody tr th {\n",
       "        vertical-align: top;\n",
       "    }\n",
       "\n",
       "    .dataframe thead th {\n",
       "        text-align: right;\n",
       "    }\n",
       "</style>\n",
       "<table border=\"1\" class=\"dataframe\">\n",
       "  <thead>\n",
       "    <tr style=\"text-align: right;\">\n",
       "      <th></th>\n",
       "      <th>tpep_pickup_datetime</th>\n",
       "      <th>tpep_dropoff_datetime</th>\n",
       "      <th>trip_distance</th>\n",
       "      <th>Duration</th>\n",
       "      <th>PULocationID</th>\n",
       "      <th>LocationID</th>\n",
       "      <th>Borough</th>\n",
       "    </tr>\n",
       "  </thead>\n",
       "  <tbody>\n",
       "    <tr>\n",
       "      <th>0</th>\n",
       "      <td>2018-06-01 00:04:18</td>\n",
       "      <td>2018-06-01 00:09:18</td>\n",
       "      <td>1.0</td>\n",
       "      <td>00:05:00</td>\n",
       "      <td>230</td>\n",
       "      <td>230</td>\n",
       "      <td>Manhattan</td>\n",
       "    </tr>\n",
       "    <tr>\n",
       "      <th>1</th>\n",
       "      <td>2018-06-01 00:24:29</td>\n",
       "      <td>2018-06-01 01:08:43</td>\n",
       "      <td>5.7</td>\n",
       "      <td>00:44:14</td>\n",
       "      <td>230</td>\n",
       "      <td>230</td>\n",
       "      <td>Manhattan</td>\n",
       "    </tr>\n",
       "    <tr>\n",
       "      <th>2</th>\n",
       "      <td>2018-06-01 00:03:22</td>\n",
       "      <td>2018-06-01 00:11:18</td>\n",
       "      <td>1.2</td>\n",
       "      <td>00:07:56</td>\n",
       "      <td>230</td>\n",
       "      <td>230</td>\n",
       "      <td>Manhattan</td>\n",
       "    </tr>\n",
       "    <tr>\n",
       "      <th>3</th>\n",
       "      <td>2018-06-01 00:48:00</td>\n",
       "      <td>2018-06-01 00:51:21</td>\n",
       "      <td>0.5</td>\n",
       "      <td>00:03:21</td>\n",
       "      <td>230</td>\n",
       "      <td>230</td>\n",
       "      <td>Manhattan</td>\n",
       "    </tr>\n",
       "    <tr>\n",
       "      <th>4</th>\n",
       "      <td>2018-06-01 00:57:53</td>\n",
       "      <td>2018-06-01 01:05:33</td>\n",
       "      <td>1.4</td>\n",
       "      <td>00:07:40</td>\n",
       "      <td>230</td>\n",
       "      <td>230</td>\n",
       "      <td>Manhattan</td>\n",
       "    </tr>\n",
       "  </tbody>\n",
       "</table>\n",
       "</div>"
      ],
      "text/plain": [
       "  tpep_pickup_datetime tpep_dropoff_datetime  trip_distance Duration  \\\n",
       "0  2018-06-01 00:04:18   2018-06-01 00:09:18            1.0 00:05:00   \n",
       "1  2018-06-01 00:24:29   2018-06-01 01:08:43            5.7 00:44:14   \n",
       "2  2018-06-01 00:03:22   2018-06-01 00:11:18            1.2 00:07:56   \n",
       "3  2018-06-01 00:48:00   2018-06-01 00:51:21            0.5 00:03:21   \n",
       "4  2018-06-01 00:57:53   2018-06-01 01:05:33            1.4 00:07:40   \n",
       "\n",
       "   PULocationID  LocationID    Borough  \n",
       "0           230         230  Manhattan  \n",
       "1           230         230  Manhattan  \n",
       "2           230         230  Manhattan  \n",
       "3           230         230  Manhattan  \n",
       "4           230         230  Manhattan  "
      ]
     },
     "execution_count": 28,
     "metadata": {},
     "output_type": "execute_result"
    }
   ],
   "source": [
    "dfl= pd.read_csv(\"taxi _zone_lookup.csv\", usecols=[0,1])\n",
    "df= pd.merge(data_frame, dfl, on= None, left_on = 'PULocationID', right_on = 'LocationID')\n",
    "df['tpep_pickup_datetime']=pd.to_datetime(df.tpep_pickup_datetime)\n",
    "df['tpep_dropoff_datetime']=pd.to_datetime(df.tpep_dropoff_datetime)\n",
    "duration=df['tpep_dropoff_datetime']-df['tpep_pickup_datetime']\n",
    "df.insert(loc=3,column='Duration',value=duration)\n",
    "df.head()\n"
   ]
  },
  {
   "cell_type": "code",
   "execution_count": 56,
   "metadata": {},
   "outputs": [],
   "source": [
    "df['Duration']= pd.to_timedelta(df.Duration).dt.total_seconds().astype(int)\n",
    "\n"
   ]
  },
  {
   "cell_type": "code",
   "execution_count": 57,
   "metadata": {},
   "outputs": [
    {
     "data": {
      "text/plain": [
       "<matplotlib.axes._subplots.AxesSubplot at 0x2b4bad12710>"
      ]
     },
     "execution_count": 57,
     "metadata": {},
     "output_type": "execute_result"
    },
    {
     "data": {
      "image/png": "[encoded data removed]",
      "text/plain": [
       "<Figure size 432x288 with 1 Axes>"
      ]
     },
     "metadata": {
      "needs_background": "light"
     },
     "output_type": "display_data"
    }
   ],
   "source": [
    "df.plot(x='trip_distance', y='Duration', kind='scatter')"
   ]
  },
  {
   "cell_type": "code",
   "execution_count": 59,
   "metadata": {},
   "outputs": [
    {
     "data": {
      "text/plain": [
       "(0.16410016972522246, 0.0)"
      ]
     },
     "execution_count": 59,
     "metadata": {},
     "output_type": "execute_result"
    }
   ],
   "source": [
    "scipy.stats.pearsonr(df['trip_distance'], df['Duration'])"
   ]
  }
 ],
 "metadata": {
  "kernelspec": {
   "display_name": "Python 3",
   "language": "python",
   "name": "python3"
  },
  "language_info": {
   "codemirror_mode": {
    "name": "ipython",
    "version": 3
   },
   "file_extension": ".py",
   "mimetype": "text/x-python",
   "name": "python",
   "nbconvert_exporter": "python",
   "pygments_lexer": "ipython3",
   "version": "3.7.0"
  }
 },
 "nbformat": 4,
 "nbformat_minor": 2
}
