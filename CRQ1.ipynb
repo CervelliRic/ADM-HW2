{
 "cells": [
  {
   "cell_type": "code",
   "execution_count": 1,
   "metadata": {},
   "outputs": [],
   "source": [
    "import matplotlib.pyplot as plt\n",
    "import numpy as np\n",
    "import pandas as pd \n",
    "from bokeh.layouts import gridplot\n",
    "from bokeh.plotting import figure, output_file, show\n",
    "from bokeh.models import HoverTool,ColumnDataSource\n",
    "from scipy import stats\n",
    "from itertools import combinations\n",
    "\n",
    "\n",
    "#I tried to run this lines to import all the year but it is too much for my 6GB ram \n",
    "\n",
    "#data = [\"yellow_tripdata_2018-01.csv\",\"yellow_tripdata_2018-02.csv\",\"yellow_tripdata_2018-03.csv\",\n",
    "#        \"yellow_tripdata_2018-04.csv\",\"yellow_tripdata_2018-05.csv\",\"yellow_tripdata_2018-06.csv\"]\n",
    "#df = pd.DataFrame()\n",
    "#for i in data:\n",
    "#    df1 = pd.read_csv(i)\n",
    "#    df = df.append(df1)\n",
    "#    del df1\n",
    "\n",
    "#So I run only January\n",
    "df = pd.read_csv(\"yellow_tripdata_2018-01.csv\")"
   ]
  },
  {
   "cell_type": "markdown",
   "metadata": {},
   "source": [
    "__*[CRQ1]*: Does the fare for mile change across NY's borough? We want to discover whether the expenses of a user that\n",
    "          enjoys Taxis in one zone is different from those that uses it in another one.__\n",
    "          \n",
    "* Considering the fare amount:\n",
    "  1. Compute the price per mile __P__ for each trip.  "
   ]
  },
  {
   "cell_type": "code",
   "execution_count": 3,
   "metadata": {},
   "outputs": [
    {
     "data": {
      "text/plain": [
       "0    9.000000\n",
       "1    5.185185\n",
       "2    7.500000\n",
       "3    3.284314\n",
       "4    5.000000\n",
       "Name: price_mile, dtype: float64"
      ]
     },
     "execution_count": 3,
     "metadata": {},
     "output_type": "execute_result"
    }
   ],
   "source": [
    "#Create the price per mile column and append it to the dataframe\n",
    "\n",
    "da = df['fare_amount']/df['trip_distance']\n",
    "df['price_mile'] = pd.Series(da)\n",
    "df['price_mile'].head()"
   ]
  },
  {
   "cell_type": "code",
   "execution_count": 4,
   "metadata": {},
   "outputs": [],
   "source": [
    "#Download the taxi zone and select only what i need\n",
    "\n",
    "taxi_zone = pd.read_csv(\"taxi_zone_lookup.csv\")\n",
    "taxi_zone = taxi_zone[['LocationID','Borough']]\n",
    "\n"
   ]
  },
  {
   "cell_type": "markdown",
   "metadata": {},
   "source": [
    "Since now I want to merge the dataframes, and __pd.merge()__ with big data becomes really slow, I take a sample of the 'df' dataframe"
   ]
  },
  {
   "cell_type": "code",
   "execution_count": 6,
   "metadata": {},
   "outputs": [
    {
     "data": {
      "text/plain": [
       "count    8.758780e+05\n",
       "mean              NaN\n",
       "std               NaN\n",
       "min              -inf\n",
       "25%      4.355401e+00\n",
       "50%      5.535714e+00\n",
       "75%      7.042254e+00\n",
       "max               inf\n",
       "Name: price_mile, dtype: float64"
      ]
     },
     "execution_count": 6,
     "metadata": {},
     "output_type": "execute_result"
    }
   ],
   "source": [
    "#Choose 0.1 as fraction of the dataframe because some boroughs has low number of runs\n",
    "#and less observations could ruin the analysis \n",
    "df_samp = df.sample(frac = 0.1)\n",
    "\n",
    "#Merge the dataframe\n",
    "bor = pd.merge(df_samp,taxi_zone, how = 'left', left_on = 'PULocationID', right_on = 'LocationID')\n",
    "\n",
    "#Get a look at the 'price_mile' column that we're going to need\n",
    "bor['price_mile'].describe()\n"
   ]
  },
  {
   "cell_type": "code",
   "execution_count": 7,
   "metadata": {},
   "outputs": [
    {
     "data": {
      "text/plain": [
       "109"
      ]
     },
     "execution_count": 7,
     "metadata": {},
     "output_type": "execute_result"
    }
   ],
   "source": [
    "\n",
    "#Count the NaN values\n",
    "sum(bor['price_mile'].isna())"
   ]
  },
  {
   "cell_type": "markdown",
   "metadata": {},
   "source": [
    "To adjust our column we need to get rid of the __NaN__ and __inf__ values and the __negative__ ones(due to errors in the dataset)"
   ]
  },
  {
   "cell_type": "code",
   "execution_count": 8,
   "metadata": {},
   "outputs": [
    {
     "data": {
      "text/plain": [
       "count    869969.000000\n",
       "mean          6.995820\n",
       "std          55.586562\n",
       "min           0.000281\n",
       "25%           4.347826\n",
       "50%           5.517241\n",
       "75%           7.000000\n",
       "max        9200.000000\n",
       "Name: price_mile, dtype: float64"
      ]
     },
     "execution_count": 8,
     "metadata": {},
     "output_type": "execute_result"
    }
   ],
   "source": [
    "#Transform inf value in NaN\n",
    "pd.options.mode.use_inf_as_na = True\n",
    "\n",
    "#Deal with \"NaN\" values replacing them with 0\n",
    "bor['price_mile'] = bor['price_mile'].replace(np.nan, 0)\n",
    "\n",
    "#Transform all the negative values in 0\n",
    "bor[bor['price_mile']<0] = 0\n",
    "\n",
    "#Drop the \"0\" since it won't affect our analisys beacuse the zeros are all the NaN and negative values\n",
    "bor = bor[bor['price_mile'] !=0]\n",
    "\n",
    "\n",
    "bor['price_mile'].describe()"
   ]
  },
  {
   "cell_type": "markdown",
   "metadata": {},
   "source": [
    "Considering the fare amount:\n",
    "     \n",
    "  1. Compute the price per mile __P__ for each trip.  \n",
    "    \n",
    "  __2__. Run the __mean__ and the __standard deviation__ of the new variable for each borough. Then plot the distribution. What do you see?"
   ]
  },
  {
   "cell_type": "markdown",
   "metadata": {},
   "source": [
    "Now we can start to compare every __borough__"
   ]
  },
  {
   "cell_type": "code",
   "execution_count": 10,
   "metadata": {},
   "outputs": [
    {
     "data": {
      "text/html": [
       "<div>\n",
       "<style scoped>\n",
       "    .dataframe tbody tr th:only-of-type {\n",
       "        vertical-align: middle;\n",
       "    }\n",
       "\n",
       "    .dataframe tbody tr th {\n",
       "        vertical-align: top;\n",
       "    }\n",
       "\n",
       "    .dataframe thead th {\n",
       "        text-align: right;\n",
       "    }\n",
       "</style>\n",
       "<table border=\"1\" class=\"dataframe\">\n",
       "  <thead>\n",
       "    <tr style=\"text-align: right;\">\n",
       "      <th></th>\n",
       "      <th>Borough</th>\n",
       "      <th>price_mile</th>\n",
       "    </tr>\n",
       "  </thead>\n",
       "  <tbody>\n",
       "    <tr>\n",
       "      <th>0</th>\n",
       "      <td>Manhattan</td>\n",
       "      <td>2.979452</td>\n",
       "    </tr>\n",
       "    <tr>\n",
       "      <th>1</th>\n",
       "      <td>Manhattan</td>\n",
       "      <td>4.893617</td>\n",
       "    </tr>\n",
       "    <tr>\n",
       "      <th>2</th>\n",
       "      <td>Manhattan</td>\n",
       "      <td>9.574468</td>\n",
       "    </tr>\n",
       "    <tr>\n",
       "      <th>3</th>\n",
       "      <td>Manhattan</td>\n",
       "      <td>8.653846</td>\n",
       "    </tr>\n",
       "    <tr>\n",
       "      <th>4</th>\n",
       "      <td>Manhattan</td>\n",
       "      <td>4.977376</td>\n",
       "    </tr>\n",
       "  </tbody>\n",
       "</table>\n",
       "</div>"
      ],
      "text/plain": [
       "     Borough  price_mile\n",
       "0  Manhattan    2.979452\n",
       "1  Manhattan    4.893617\n",
       "2  Manhattan    9.574468\n",
       "3  Manhattan    8.653846\n",
       "4  Manhattan    4.977376"
      ]
     },
     "execution_count": 10,
     "metadata": {},
     "output_type": "execute_result"
    }
   ],
   "source": [
    "#Divide the df for every borough to plot them\n",
    "bor = bor[['Borough', 'price_mile']]\n",
    "\n",
    "man = bor[bor['Borough'] == 'Manhattan']\n",
    "broo = bor[bor['Borough'] == 'Brooklyn']\n",
    "que = bor[bor['Borough'] == 'Queens']\n",
    "bro = bor[bor['Borough'] == 'Bronx']\n",
    "sta = bor[bor['Borough'] == 'Staten Island']\n",
    "ewr = bor[bor['Borough'] == 'EWR']\n",
    "\n",
    "man.head()"
   ]
  },
  {
   "cell_type": "code",
   "execution_count": 11,
   "metadata": {},
   "outputs": [
    {
     "name": "stdout",
     "output_type": "stream",
     "text": [
      "The mean of Manhattan is : 6.73\n",
      "The standard deviation of Manhattan is: 38.56\n",
      "The mean of Brooklyn is : 6.10\n",
      "The standard deviation of Brooklyn is: 32.55\n",
      "The mean of Queens is : 6.86\n",
      "The standard deviation of Queens is: 101.29\n",
      "The mean of Bronx is : 6.04\n",
      "The standard deviation of Bronx is: 8.07\n",
      "The mean of Staten Island is : 5.91\n",
      "The standard deviation of Staten Island is: 2.49\n",
      "The mean of EWR is : 400.35\n",
      "The standard deviation of EWR is: 1255.98\n"
     ]
    }
   ],
   "source": [
    "#Make a list to put togheter all the dataframes\n",
    "l = [man, broo, que, bro, sta, ewr]\n",
    "borough_names = ['Manhattan','Brooklyn','Queens','Bronx','Staten Island','EWR']\n",
    "\n",
    "#Iterate to find the mean and the standard deviation\n",
    "for i,j in zip(l,borough_names):\n",
    "    print('The mean of %s is : %.2f' % (j,i['price_mile'].mean()))\n",
    "    print('The standard deviation of %s is: %.2f' % (j,i['price_mile'].std()))\n",
    "\n",
    "    "
   ]
  },
  {
   "cell_type": "code",
   "execution_count": 12,
   "metadata": {},
   "outputs": [],
   "source": [
    "#I use Bokeh to make my plots\n",
    "p_hist, edges = np.histogram(man['price_mile'], bins = 50, range = [0,10])\n",
    "\n",
    "p_mile = pd.DataFrame({'pr_mile': p_hist, 'left': edges[:-1], 'right': edges[1:]})\n",
    "\n",
    "# Add a column showing the extent of each interval\n",
    "p_mile['p_interval'] = ['%.1f to %.1f $ per mile' % (left, right) for left,right in zip(p_mile['left'], p_mile['right'])]\n",
    "\n",
    "\n",
    "#Create a function to make the plot\n",
    "def make_plot(title, hist, edges, p_mile):\n",
    "    p = figure(title=title,background_fill_color=\"#fafafa\", x_axis_label = 'Price/mile',y_axis_label = 'Number of runs')\n",
    "    \n",
    "    src = ColumnDataSource(p_mile)\n",
    "    \n",
    "    p.quad(top='pr_mile', bottom=0, left='left', right='right',source = src,\n",
    "           fill_color=\"navy\", fill_alpha=0.75, hover_fill_alpha = 1.0, hover_fill_color = 'red')\n",
    "    \n",
    "    p.add_tools(HoverTool(tooltips=[('Interval', '@p_interval'),\n",
    "                             ('Num of runs', '@pr_mile')]))\n",
    "    \n",
    "    \n",
    "    p.title.text_font_size = '18pt'\n",
    "    p.xaxis.axis_label_standoff = 20\n",
    "    p.yaxis.axis_label_standoff = 20\n",
    "    p.xaxis.axis_label_text_font_size = \"16pt\"\n",
    "    p.yaxis.axis_label_text_font_size = \"16pt\"\n",
    "    p.grid.grid_line_color=\"white\"\n",
    "    return p\n",
    "\n",
    "#Recall the plot function\n",
    "p_man= make_plot('Distribution of price per mile: Manhattan', p_hist, edges, p_mile)\n",
    "\n",
    "#Change the data to make the plot for every borough\n",
    "p_hist, edges = np.histogram(broo['price_mile'], bins = 50, range = [0,10])\n",
    "p_mile = pd.DataFrame({'pr_mile': p_hist, 'left': edges[:-1], 'right': edges[1:]})\n",
    "p_mile['p_interval'] = ['%.1f to %.1f $ per mile' % (left, right) for left,\n",
    "      right in zip(p_mile['left'], p_mile['right'])]\n",
    "p_broo= make_plot('Distribution of price per mile: Brooklyn', p_hist, edges, p_mile)\n",
    "\n",
    "p_hist, edges = np.histogram(que['price_mile'], bins = 50, range = [0,10])\n",
    "p_mile = pd.DataFrame({'pr_mile': p_hist, 'left': edges[:-1], 'right': edges[1:]})\n",
    "p_mile['p_interval'] = ['%.1f to %.1f $ per mile' % (left, right) for left,\n",
    "      right in zip(p_mile['left'], p_mile['right'])]\n",
    "p_que= make_plot('Distribution of price per mile: Queens', p_hist, edges, p_mile)\n",
    "\n",
    "p_hist, edges = np.histogram(bro['price_mile'], bins = 50, range = [0,10])\n",
    "p_mile = pd.DataFrame({'pr_mile': p_hist, 'left': edges[:-1], 'right': edges[1:]})\n",
    "p_mile['p_interval'] = ['%.1f to %.1f $ per mile' % (left, right) for left,\n",
    "      right in zip(p_mile['left'], p_mile['right'])]\n",
    "p_bro= make_plot('Distribution of price per mile: Bronx', p_hist, edges, p_mile)\n",
    "\n",
    "p_hist, edges = np.histogram(sta['price_mile'], bins = 50, range = [0,10])\n",
    "p_mile = pd.DataFrame({'pr_mile': p_hist, 'left': edges[:-1], 'right': edges[1:]})\n",
    "p_mile['p_interval'] = ['%.1f to %.1f $ per mile' % (left, right) for left,\n",
    "      right in zip(p_mile['left'], p_mile['right'])]\n",
    "p_sta= make_plot('Distribution of price per mile: Staten Island', p_hist, edges, p_mile)\n",
    "\n",
    "p_hist, edges = np.histogram(ewr['price_mile'], bins = 50, range = [0,10])\n",
    "p_mile = pd.DataFrame({'pr_mile': p_hist, 'left': edges[:-1], 'right': edges[1:]})\n",
    "p_mile['p_interval'] = ['%.1f to %.1f $ per mile' % (left, right) for left,\n",
    "      right in zip(p_mile['left'], p_mile['right'])]\n",
    "p_ewr= make_plot('Distribution of price per mile: EWR', p_hist, edges, p_mile)\n",
    "\n",
    "output_file('hist.html')\n",
    "\n",
    "#Create a grid plot with all the histograms of the distributions\n",
    "show(gridplot([p_man,p_broo, p_que,p_bro, p_sta, p_ewr], ncols = 3, \n",
    "              plot_width = 600, plot_height = 600,toolbar_location = None))\n"
   ]
  },
  {
   "cell_type": "markdown",
   "metadata": {},
   "source": [
    "What we can say about the dataset is:\n",
    "* The most of the taxis are used in the borough of __Manhattan__ \n",
    "* In __Staten Island__ and __EWR__ doesn't pass almost any of the taxis(could be due to the fact that I sampled the dataset) "
   ]
  },
  {
   "cell_type": "markdown",
   "metadata": {},
   "source": [
    "Considering the fare amount:\n",
    "        \n",
    "  1. Compute the price per mile __P__ for each trip.  \n",
    "    \n",
    "  2. Run the __mean__ and the __standard deviation__ of the new variable for each borough. Then plot the distribution. What do you see?\n",
    "  \n",
    "  __3__. Run the __t-test__ among all the possible pairs of distribution of different boroughs."
   ]
  },
  {
   "cell_type": "code",
   "execution_count": 13,
   "metadata": {},
   "outputs": [
    {
     "name": "stdout",
     "output_type": "stream",
     "text": [
      "Manhattan\n",
      "Brooklyn\n",
      "Ttest_indResult(statistic=1.8838155398163332, pvalue=0.05961875415402047)\n",
      "Manhattan\n",
      "Queens\n",
      "Ttest_indResult(statistic=-0.28808078735936793, pvalue=0.773286041293168)\n",
      "Manhattan\n",
      "Bronx\n",
      "Ttest_indResult(statistic=2.132024137758602, pvalue=0.03337314445027568)\n",
      "Brooklyn\n",
      "Queens\n",
      "Ttest_indResult(statistic=-1.3612323613642636, pvalue=0.17344670125607223)\n",
      "Brooklyn\n",
      "Bronx\n",
      "Ttest_indResult(statistic=0.1313379457290958, pvalue=0.8955184062514081)\n",
      "Queens\n",
      "Bronx\n",
      "Ttest_indResult(statistic=1.4863742634931738, pvalue=0.1372393966767187)\n"
     ]
    }
   ],
   "source": [
    "#Recall the 'l' list of the boroughs without 'Staten Island' and 'EWR' because for them there are too low observations\n",
    "l = [man, broo, que, bro]\n",
    "c = list(combinations(l,2))\n",
    "\n",
    "#Run the t-test\n",
    "for i in c:\n",
    "    print(i[0].iloc[0,0],i[1].iloc[0,0],stats.ttest_ind(i[0]['price_mile'],i[1]['price_mile'], equal_var = False), sep='\\n')\n",
    "            \n",
    "    "
   ]
  },
  {
   "cell_type": "markdown",
   "metadata": {},
   "source": [
    "Considering the fare amount:\n",
    "        \n",
    "  1. Compute the price per mile __P__ for each trip.  \n",
    "    \n",
    "  2. Run the __mean__ and the __standard deviation__ of the new variable for each borough. Then plot the distribution. What do you see?\n",
    "  \n",
    "  3. Run the __t-test__ among all the possible pairs of distribution of different boroughs.\n",
    "  \n",
    "  __4__. Can you say that __statistically significant differences__, on the averages, hold among zones? In other words, are Taxis trip in some boroughs, on average, more expensive than others?"
   ]
  },
  {
   "cell_type": "markdown",
   "metadata": {},
   "source": [
    "\n",
    "\n",
    "The __p-value__ can be thought of as the probability of observing\n",
    "the two data samples given the base assumption (null hypothesis)\n",
    "that the two samples were drawn from a population with the same distribution.\n",
    "\n",
    "\n",
    " if __p<= 0.05__  we can reject the null hypotesis(same distribution).They have different distribution \n",
    "         \n",
    "Useful information from our T-test could be taken from the borough with a valuable number of runs.\n",
    "Those are __Manhattan__ and __Brooklyn__. Their p-value very small tells us that they have different distribution and we can say that the price per mile is different between the two.\n",
    "\n",
    "The strange value of the p-value is the one between __Manhattan__ and __Queens__ that is quite high(0.78), saying that probably the price per mile between those __is the same__"
   ]
  },
  {
   "cell_type": "markdown",
   "metadata": {},
   "source": [
    "The price per mile might depend on traffic the Taxi finds on its way. So we try to mitigate this effect:\n",
    "\n",
    " 1. Likely, the duration of the trip says something about the city's congestion, especially if combined with the distances. It might be a good idea to weight the price for mile using the time $T$ needed to complete the trip.\n",
    "\n",
    "  Thus, instead of $P$, you can use $P' = \\frac{P}{T}$ , where $T$ is the time needed to complete the trip. "
   ]
  },
  {
   "cell_type": "code",
   "execution_count": 22,
   "metadata": {},
   "outputs": [
    {
     "data": {
      "text/html": [
       "<div>\n",
       "<style scoped>\n",
       "    .dataframe tbody tr th:only-of-type {\n",
       "        vertical-align: middle;\n",
       "    }\n",
       "\n",
       "    .dataframe tbody tr th {\n",
       "        vertical-align: top;\n",
       "    }\n",
       "\n",
       "    .dataframe thead th {\n",
       "        text-align: right;\n",
       "    }\n",
       "</style>\n",
       "<table border=\"1\" class=\"dataframe\">\n",
       "  <thead>\n",
       "    <tr style=\"text-align: right;\">\n",
       "      <th></th>\n",
       "      <th>tpep_pickup_datetime</th>\n",
       "      <th>tpep_dropoff_datetime</th>\n",
       "      <th>PULocationID</th>\n",
       "      <th>price_mile</th>\n",
       "      <th>LocationID</th>\n",
       "      <th>Borough</th>\n",
       "      <th>duration_min</th>\n",
       "      <th>p_mile_time</th>\n",
       "    </tr>\n",
       "  </thead>\n",
       "  <tbody>\n",
       "    <tr>\n",
       "      <th>0</th>\n",
       "      <td>2018-01-09 21:08:13</td>\n",
       "      <td>2018-01-09 21:45:26</td>\n",
       "      <td>162</td>\n",
       "      <td>2.979452</td>\n",
       "      <td>162</td>\n",
       "      <td>Manhattan</td>\n",
       "      <td>37.216667</td>\n",
       "      <td>0.080057</td>\n",
       "    </tr>\n",
       "    <tr>\n",
       "      <th>1</th>\n",
       "      <td>2018-01-02 19:59:37</td>\n",
       "      <td>2018-01-02 20:13:33</td>\n",
       "      <td>142</td>\n",
       "      <td>4.893617</td>\n",
       "      <td>142</td>\n",
       "      <td>Manhattan</td>\n",
       "      <td>13.933333</td>\n",
       "      <td>0.351217</td>\n",
       "    </tr>\n",
       "    <tr>\n",
       "      <th>2</th>\n",
       "      <td>2018-01-17 22:25:18</td>\n",
       "      <td>2018-01-17 22:29:34</td>\n",
       "      <td>148</td>\n",
       "      <td>9.574468</td>\n",
       "      <td>148</td>\n",
       "      <td>Manhattan</td>\n",
       "      <td>4.266667</td>\n",
       "      <td>2.244016</td>\n",
       "    </tr>\n",
       "    <tr>\n",
       "      <th>3</th>\n",
       "      <td>2018-01-17 15:22:23</td>\n",
       "      <td>2018-01-17 15:26:37</td>\n",
       "      <td>164</td>\n",
       "      <td>8.653846</td>\n",
       "      <td>164</td>\n",
       "      <td>Manhattan</td>\n",
       "      <td>4.233333</td>\n",
       "      <td>2.044216</td>\n",
       "    </tr>\n",
       "    <tr>\n",
       "      <th>4</th>\n",
       "      <td>2018-01-12 17:49:30</td>\n",
       "      <td>2018-01-12 18:03:26</td>\n",
       "      <td>163</td>\n",
       "      <td>4.977376</td>\n",
       "      <td>163</td>\n",
       "      <td>Manhattan</td>\n",
       "      <td>13.933333</td>\n",
       "      <td>0.357228</td>\n",
       "    </tr>\n",
       "  </tbody>\n",
       "</table>\n",
       "</div>"
      ],
      "text/plain": [
       "  tpep_pickup_datetime tpep_dropoff_datetime  PULocationID  price_mile  \\\n",
       "0  2018-01-09 21:08:13   2018-01-09 21:45:26           162    2.979452   \n",
       "1  2018-01-02 19:59:37   2018-01-02 20:13:33           142    4.893617   \n",
       "2  2018-01-17 22:25:18   2018-01-17 22:29:34           148    9.574468   \n",
       "3  2018-01-17 15:22:23   2018-01-17 15:26:37           164    8.653846   \n",
       "4  2018-01-12 17:49:30   2018-01-12 18:03:26           163    4.977376   \n",
       "\n",
       "   LocationID    Borough  duration_min  p_mile_time  \n",
       "0         162  Manhattan     37.216667     0.080057  \n",
       "1         142  Manhattan     13.933333     0.351217  \n",
       "2         148  Manhattan      4.266667     2.244016  \n",
       "3         164  Manhattan      4.233333     2.044216  \n",
       "4         163  Manhattan     13.933333     0.357228  "
      ]
     },
     "execution_count": 22,
     "metadata": {},
     "output_type": "execute_result"
    }
   ],
   "source": [
    "#Select only the columns that I need\n",
    "df_samp = df_samp[['tpep_pickup_datetime','tpep_dropoff_datetime', 'PULocationID', 'price_mile']]\n",
    "\n",
    "#Merge df with taxi zone \n",
    "bor = pd.merge(df_samp,taxi_zone, how = 'left', left_on = 'PULocationID', right_on = 'LocationID')\n",
    "\n",
    "#Operate with the date to get the duration of every trip in seconds\n",
    "pu = pd.to_datetime(bor['tpep_pickup_datetime'])\n",
    "do = pd.to_datetime(bor['tpep_dropoff_datetime'])\n",
    "duration = (do-pu).dt.seconds\n",
    "bor['duration_min'] = pd.Series(duration/60)\n",
    "\n",
    "#Create the new column price per mile per time and append it to 'bor'\n",
    "data = bor['price_mile']\n",
    "dat = bor['duration_min']\n",
    "da = data/dat\n",
    "bor['p_mile_time'] = pd.Series(da)\n",
    "\n",
    "#Deal with NaN and negative values as above\n",
    "bor['p_mile_time'] = bor['p_mile_time'].replace(np.nan, 0)\n",
    "bor[bor['p_mile_time']<0] = 0\n",
    "bor = bor[bor['p_mile_time'] !=0]\n",
    "\n",
    "bor.head()\n"
   ]
  },
  {
   "cell_type": "code",
   "execution_count": 15,
   "metadata": {},
   "outputs": [
    {
     "data": {
      "text/plain": [
       "count    869953.000000\n",
       "mean          9.775694\n",
       "std         991.495625\n",
       "min           0.000002\n",
       "25%           0.285843\n",
       "50%           0.545350\n",
       "75%           1.032406\n",
       "max      552000.000000\n",
       "Name: p_mile_time, dtype: float64"
      ]
     },
     "execution_count": 15,
     "metadata": {},
     "output_type": "execute_result"
    }
   ],
   "source": [
    "bor['p_mile_time'].describe()"
   ]
  },
  {
   "cell_type": "markdown",
   "metadata": {},
   "source": [
    "The price per mile might depend on traffic the Taxi finds on its way. So we try to mitigate this effect:\n",
    "\n",
    "  1. Likely, the duration of the trip says something about the city's congestion, especially if combined with the distances. It might be a good idea to weight the price for mile using the time $T$ needed to complete the trip.\n",
    "\n",
    "  Thus, instead of $P$, you can use $P' = \\frac{P}{T}$ , where $T$ is the time needed to complete the trip.\n",
    "  \n",
    "  __2__. Run the mean and the standard deviation of the new variable for each borough. Then plot the distribution. What do you see?"
   ]
  },
  {
   "cell_type": "code",
   "execution_count": 23,
   "metadata": {},
   "outputs": [
    {
     "name": "stdout",
     "output_type": "stream",
     "text": [
      "The mean of Manhattan is : 3.86\n",
      "The standard deviation of Manhattan is: 353.39\n",
      "The mean of Brooklyn is : 7.15\n",
      "The standard deviation of Brooklyn is: 311.02\n",
      "The mean of Queens is : 17.92\n",
      "The standard deviation of Queens is: 999.09\n",
      "The mean of Bronx is : 3.41\n",
      "The standard deviation of Bronx is: 33.50\n",
      "The mean of Staten Island is : 4.13\n",
      "The standard deviation of Staten Island is: 7.23\n",
      "The mean of EWR is : 362.99\n",
      "The standard deviation of EWR is: 830.10\n"
     ]
    }
   ],
   "source": [
    "#Divide the df for every borough to plot them\n",
    "bor = bor[['Borough', 'p_mile_time','price_mile']]\n",
    "\n",
    "man = bor[bor['Borough'] == 'Manhattan']\n",
    "broo = bor[bor['Borough'] == 'Brooklyn']\n",
    "que = bor[bor['Borough'] == 'Queens']\n",
    "bro = bor[bor['Borough'] == 'Bronx']\n",
    "sta = bor[bor['Borough'] == 'Staten Island']\n",
    "ewr = bor[bor['Borough'] == 'EWR']\n",
    "\n",
    "#Make a list to put togheter all the dataframes\n",
    "l = [man, broo, que, bro, sta, ewr]\n",
    "borough_names = ['Manhattan','Brooklyn','Queens','Bronx','Staten Island','EWR']\n",
    "\n",
    "#iterate to find the mean and the standard deviation\n",
    "for i,j in zip(l,borough_names):\n",
    "    print('The mean of %s is : %.2f' % (j,i['p_mile_time'].mean()))\n",
    "    print('The standard deviation of %s is: %.2f' % (j,i['p_mile_time'].std()))"
   ]
  },
  {
   "cell_type": "code",
   "execution_count": 17,
   "metadata": {},
   "outputs": [],
   "source": [
    "#I use Bokeh to make my plots\n",
    "p_hist, edges = np.histogram(man['p_mile_time'], bins = 40, range = [0,4])\n",
    "\n",
    "p_mile_time = pd.DataFrame({'pr_mile_time': p_hist, 'left': edges[:-1], 'right': edges[1:]})\n",
    "\n",
    "# Add a column showing the extent of each interval\n",
    "p_mile_time['p_interval'] = ['%.1f to %.1f $ per mile per minute' % (left, right)\n",
    "                        for left,right in zip(p_mile_time['left'], p_mile_time['right'])]\n",
    "\n",
    "\n",
    "#Create a function to make the plot\n",
    "def make_plot(title, hist, edges, p_mile_time):\n",
    "    p = figure(title=title,background_fill_color=\"#fafafa\", \n",
    "               x_axis_label = 'Price/(mile x time)($,mile,min)',y_axis_label = 'Number of runs')\n",
    "    \n",
    "    src = ColumnDataSource(p_mile_time)\n",
    "    \n",
    "    p.quad(top='pr_mile_time', bottom=0, left='left', right='right',source = src,\n",
    "           fill_color=\"yellow\", fill_alpha=0.75, hover_fill_alpha = 1.0, hover_fill_color = 'black')\n",
    "    \n",
    "    p.add_tools(HoverTool(tooltips=[('Interval', '@p_interval'),\n",
    "                             ('Num of runs', '@pr_mile_time')]))\n",
    "    \n",
    "    \n",
    "    p.title.text_font_size = '16pt'\n",
    "    p.xaxis.axis_label_standoff = 20\n",
    "    p.yaxis.axis_label_standoff = 20\n",
    "    p.xaxis.axis_label_text_font_size = \"14pt\"\n",
    "    p.yaxis.axis_label_text_font_size = \"14pt\"\n",
    "    return p\n",
    "\n",
    "#Recall the plot function\n",
    "p_man= make_plot('Distribution of price per mile: Manhattan', p_hist, edges, p_mile_time)\n",
    "\n",
    "#Change the data to make the plot for every borough\n",
    "p_hist, edges = np.histogram(broo['p_mile_time'], bins = 40, range = [0,4])\n",
    "p_mile_time = pd.DataFrame({'pr_mile_time': p_hist, 'left': edges[:-1], 'right': edges[1:]})\n",
    "p_mile_time['p_interval'] = ['%.1f to %.1f $ per mile per minute' % (left, right) for left,\n",
    "      right in zip(p_mile_time['left'], p_mile_time['right'])]\n",
    "p_broo= make_plot('Distribution of price per mile per minute: Brooklyn', p_hist, edges, p_mile_time)\n",
    "\n",
    "p_hist, edges = np.histogram(que['p_mile_time'], bins = 40, range = [0,4])\n",
    "p_mile_time = pd.DataFrame({'pr_mile_time': p_hist, 'left': edges[:-1], 'right': edges[1:]})\n",
    "p_mile_time['p_interval'] = ['%.1f to %.1f $ per mile per minute' % (left, right) for left,\n",
    "      right in zip(p_mile_time['left'], p_mile_time['right'])]\n",
    "p_que= make_plot('Distribution of price per mile per minute: Queens', p_hist, edges, p_mile_time)\n",
    "\n",
    "p_hist, edges = np.histogram(bro['p_mile_time'], bins = 40, range = [0,4])\n",
    "p_mile_time = pd.DataFrame({'pr_mile_time': p_hist, 'left': edges[:-1], 'right': edges[1:]})\n",
    "p_mile_time['p_interval'] = ['%.1f to %.1f $ per mile per minute' % (left, right) for left,\n",
    "      right in zip(p_mile_time['left'], p_mile_time['right'])]\n",
    "p_bro= make_plot('Distribution of price per mile per minute: Bronx', p_hist, edges, p_mile_time)\n",
    "\n",
    "\n",
    "p_hist, edges = np.histogram(sta['p_mile_time'], bins = 40, range = [0,4])\n",
    "p_mile_time = pd.DataFrame({'pr_mile_time': p_hist, 'left': edges[:-1], 'right': edges[1:]})\n",
    "p_mile_time['p_interval'] = ['%.1f to %.1f $ per mile per minute' % (left, right) for left,\n",
    "      right in zip(p_mile_time['left'], p_mile_time['right'])]\n",
    "p_sta= make_plot('Distribution of price per mile per minute: St. Island', p_hist, edges, p_mile_time)\n",
    "\n",
    "\n",
    "p_hist, edges = np.histogram(ewr['p_mile_time'], bins = 40, range = [0,4])\n",
    "p_mile_time = pd.DataFrame({'pr_mile_time': p_hist, 'left': edges[:-1], 'right': edges[1:]})\n",
    "p_mile_time['p_interval'] = ['%.1f to %.1f $ per mile per minute' % (left, right) for left,\n",
    "      right in zip(p_mile_time['left'], p_mile_time['right'])]\n",
    "p_ewr= make_plot('Distribution of price per mile per minute: EWR', p_hist, edges, p_mile_time)\n",
    "\n",
    "output_file('hist.html')\n",
    "\n",
    "#Create a grid plot with all the histograms of the distributions\n",
    "show(gridplot([p_man,p_broo, p_que,p_bro, p_sta, p_ewr], ncols = 3,\n",
    "              plot_width = 600, plot_height = 600,toolbar_location = None))\n"
   ]
  },
  {
   "cell_type": "code",
   "execution_count": 18,
   "metadata": {},
   "outputs": [
    {
     "data": {
      "text/plain": [
       "count    793564.000000\n",
       "mean          3.858789\n",
       "std         353.389328\n",
       "min           0.000002\n",
       "25%           0.321571\n",
       "50%           0.580495\n",
       "75%           1.072784\n",
       "max      156000.000000\n",
       "Name: p_mile_time, dtype: float64"
      ]
     },
     "execution_count": 18,
     "metadata": {},
     "output_type": "execute_result"
    }
   ],
   "source": [
    "#Describe the variable to see why the mean and the plot doesn't coincide\n",
    "man['p_mile_time'].describe()\n"
   ]
  },
  {
   "cell_type": "markdown",
   "metadata": {},
   "source": [
    "From the __mean__, the __deviation__ and the __plot__ we can see, taking from example Manhattan, that the plot seem to go toward a mean of __0.2/0.3__, versus the mean that says that is almost __4__. That is due to the fact that we sampled the dataset and that the variable has a great standard deviation, so is possibile that the plot could not coincide with the mean. Overall we can see above that the 75th percentile is 1.06 so is more than possible to have a plot that varies from the mean.\n",
    "\n",
    "As before 'EWR' and 'Staten Island' haven't enough values to be plotted giving that bad result "
   ]
  },
  {
   "cell_type": "markdown",
   "metadata": {},
   "source": [
    "The price per mile might depend on traffic the Taxi finds on its way. So we try to mitigate this effect:\n",
    "\n",
    "  1. Likely, the duration of the trip says something about the city's congestion, especially if combined with the distances. It might be a good idea to weight the price for mile using the time $T$ needed to complete the trip.\n",
    "\n",
    "  Thus, instead of $P$, you can use $P' = \\frac{P}{T}$ , where $T$ is the time needed to complete the trip.\n",
    "  \n",
    "  2. Run the mean and the standard deviation of the new variable for each borough. Then plot the distribution. What do you see?\n",
    "  \n",
    "  __3__.Run the __T-test__ among all the possible pairs of new distribution of different boroughs."
   ]
  },
  {
   "cell_type": "code",
   "execution_count": 19,
   "metadata": {},
   "outputs": [
    {
     "name": "stdout",
     "output_type": "stream",
     "text": [
      "Manhattan\n",
      "Brooklyn\n",
      "Ttest_indResult(statistic=-1.0366191399091664, pvalue=0.29993838061544)\n",
      "Manhattan\n",
      "Queens\n",
      "Ttest_indResult(statistic=-3.1738001322372877, pvalue=0.0015054464571046208)\n",
      "Manhattan\n",
      "Bronx\n",
      "Ttest_indResult(statistic=0.3258345504923033, pvalue=0.7446396977817862)\n",
      "Brooklyn\n",
      "Queens\n",
      "Ttest_indResult(statistic=-1.98437262569883, pvalue=0.047219858185060914)\n",
      "Brooklyn\n",
      "Bronx\n",
      "Ttest_indResult(statistic=1.094929921164507, pvalue=0.27357627459457146)\n",
      "Queens\n",
      "Bronx\n",
      "Ttest_indResult(statistic=3.1495743255609607, pvalue=0.0016363936585582458)\n"
     ]
    }
   ],
   "source": [
    "#Recall the 'l' list of the boroughs without 'Staten Island' and 'EWR' because for them there are too low observations\n",
    "l = [man, broo, que, bro]\n",
    "c = list(combinations(l,2))\n",
    "\n",
    "#Run the t-test\n",
    "for i in c:\n",
    "    print(i[0].iloc[0,0],i[1].iloc[0,0],stats.ttest_ind(i[0]['p_mile_time'],i[1]['p_mile_time'], equal_var = False), sep='\\n')"
   ]
  },
  {
   "cell_type": "markdown",
   "metadata": {},
   "source": [
    "The price per mile might depend on traffic the Taxi finds on its way. So we try to mitigate this effect:\n",
    "\n",
    "  1. Likely, the duration of the trip says something about the city's congestion, especially if combined with the distances. It might be a good idea to weight the price for mile using the time $T$ needed to complete the trip.\n",
    "\n",
    "  Thus, instead of $P$, you can use $P' = \\frac{P}{T}$ , where $T$ is the time needed to complete the trip.\n",
    "  \n",
    "  2. Run the mean and the standard deviation of the new variable for each borough. Then plot the distribution. What do you see?\n",
    "  \n",
    "  3. Run the __T-test__ among all the possible pairs of new distribution of different boroughs.\n",
    "  \n",
    "  __4__.Can you say that __statistically significant differences__, on the averages, hold among zones? In other words, are Taxis trip in some boroughs, on average, more expensive than others?"
   ]
  },
  {
   "cell_type": "markdown",
   "metadata": {},
   "source": [
    "from this T-test we can say that __almost every borough__ has different price from each other but Bronx(0.74,0.27). "
   ]
  },
  {
   "cell_type": "markdown",
   "metadata": {},
   "source": [
    " "
   ]
  },
  {
   "cell_type": "markdown",
   "metadata": {},
   "source": [
    "The price per mile might depend on traffic the Taxi finds on its way. So we try to mitigate this effect:\n",
    "\n",
    "  1. Likely, the duration of the trip says something about the city's congestion, especially if combined with the distances. It might be a good idea to weight the price for mile using the time $T$ needed to complete the trip.\n",
    "\n",
    "  Thus, instead of $P$, you can use $P' = \\frac{P}{T}$ , where $T$ is the time needed to complete the trip.\n",
    "  \n",
    "  2. Run the mean and the standard deviation of the new variable for each borough. Then plot the distribution. What do you see?\n",
    "  \n",
    "  3. Run the __T-test__ among all the possible pairs of new distribution of different boroughs.\n",
    "  \n",
    "  4. Can you say that __statistically significant differences__, on the averages, hold among zones? In other words, are Taxis trip in some boroughs, on average, more expensive than others?\n",
    "\n",
    " __5__.Compare the results obtained for the price per mile and the weighted price for mile. What do you think about that?"
   ]
  },
  {
   "cell_type": "code",
   "execution_count": 28,
   "metadata": {},
   "outputs": [
    {
     "name": "stdout",
     "output_type": "stream",
     "text": [
      "\n",
      "The mean of price per mile of Manhattan is : 6.72\n",
      "\n",
      "The mean of price per mile per minute of  Manhattan is : 3.86\n",
      "\n",
      "The standard deviation of price per mile of Manhattan is: 38.12\n",
      "\n",
      "The standard deviation of price per mile per minute of  Manhattan is: 353.39\n",
      "\n",
      "The mean of price per mile of Brooklyn is : 6.10\n",
      "\n",
      "The mean of price per mile per minute of  Brooklyn is : 7.15\n",
      "\n",
      "The standard deviation of price per mile of Brooklyn is: 32.55\n",
      "\n",
      "The standard deviation of price per mile per minute of  Brooklyn is: 311.02\n",
      "\n",
      "The mean of price per mile of Queens is : 6.86\n",
      "\n",
      "The mean of price per mile per minute of  Queens is : 17.92\n",
      "\n",
      "The standard deviation of price per mile of Queens is: 101.30\n",
      "\n",
      "The standard deviation of price per mile per minute of  Queens is: 999.09\n",
      "\n",
      "The mean of price per mile of Bronx is : 6.04\n",
      "\n",
      "The mean of price per mile per minute of  Bronx is : 3.41\n",
      "\n",
      "The standard deviation of price per mile of Bronx is: 8.07\n",
      "\n",
      "The standard deviation of price per mile per minute of  Bronx is: 33.50\n",
      "\n",
      "The mean of price per mile of Staten Island is : 5.91\n",
      "\n",
      "The mean of price per mile per minute of  Staten Island is : 4.13\n",
      "\n",
      "The standard deviation of price per mile of Staten Island is: 2.49\n",
      "\n",
      "The standard deviation of price per mile per minute of  Staten Island is: 7.23\n",
      "\n",
      "The mean of price per mile of EWR is : 400.35\n",
      "\n",
      "The mean of price per mile per minute of  EWR is : 362.99\n",
      "\n",
      "The standard deviation of price per mile of EWR is: 1255.98\n",
      "\n",
      "The standard deviation of price per mile per minute of  EWR is: 830.10\n",
      "Manhattan\n",
      "Brooklyn\n",
      "Ttest_indResult(statistic=1.8645209868159183, pvalue=0.062277707903403506)\n",
      "Manhattan\n",
      "Brooklyn\n",
      "Ttest_indResult(statistic=-1.0366191399091664, pvalue=0.29993838061544)\n",
      "Manhattan\n",
      "Queens\n",
      "Ttest_indResult(statistic=-0.3043776171752276, pvalue=0.7608414308360089)\n",
      "Manhattan\n",
      "Queens\n",
      "Ttest_indResult(statistic=-3.1738001322372877, pvalue=0.0015054464571046208)\n",
      "Manhattan\n",
      "Bronx\n",
      "Ttest_indResult(statistic=2.112166949225601, pvalue=0.03504717862669744)\n",
      "Manhattan\n",
      "Bronx\n",
      "Ttest_indResult(statistic=0.3258345504923033, pvalue=0.7446396977817862)\n",
      "Brooklyn\n",
      "Queens\n",
      "Ttest_indResult(statistic=-1.3624818446870388, pvalue=0.17305230264445728)\n",
      "Brooklyn\n",
      "Queens\n",
      "Ttest_indResult(statistic=-1.98437262569883, pvalue=0.047219858185060914)\n",
      "Brooklyn\n",
      "Bronx\n",
      "Ttest_indResult(statistic=0.1313379457290958, pvalue=0.8955184062514081)\n",
      "Brooklyn\n",
      "Bronx\n",
      "Ttest_indResult(statistic=1.094929921164507, pvalue=0.27357627459457146)\n",
      "Queens\n",
      "Bronx\n",
      "Ttest_indResult(statistic=1.4876197432490663, pvalue=0.1369104273208441)\n",
      "Queens\n",
      "Bronx\n",
      "Ttest_indResult(statistic=3.1495743255609607, pvalue=0.0016363936585582458)\n"
     ]
    }
   ],
   "source": [
    "#Make a list to put togheter all the dataframes\n",
    "l = [man, broo, que, bro, sta, ewr]\n",
    "borough_names = ['Manhattan','Brooklyn','Queens','Bronx','Staten Island','EWR']\n",
    "\n",
    "#iterate to find the mean and the standard deviation for 'price_mile' and 'p_mile_time'\n",
    "for i,j in zip(l,borough_names):\n",
    "    print('\\nThe mean of price per mile of %s is : %.2f' % (j,i['price_mile'].mean()))\n",
    "    print('\\nThe mean of price per mile per minute of  %s is : %.2f' % (j,i['p_mile_time'].mean()))\n",
    "    print('\\nThe standard deviation of price per mile of %s is: %.2f' % (j,i['price_mile'].std()))\n",
    "    print('\\nThe standard deviation of price per mile per minute of  %s is: %.2f' % (j,i['p_mile_time'].std()))\n",
    "    \n",
    "#Recall the 'l' list of the boroughs without 'Staten Island' and 'EWR' because for them there are too low observations\n",
    "l = [man, broo, que, bro]\n",
    "c = list(combinations(l,2))\n",
    "\n",
    "#Run the t-test\n",
    "for i in c:\n",
    "    print(i[0].iloc[0,0],i[1].iloc[0,0],stats.ttest_ind(i[0]['price_mile'],i[1]['price_mile'], equal_var = False), sep='\\n')\n",
    "    print(i[0].iloc[0,0],i[1].iloc[0,0],stats.ttest_ind(i[0]['p_mile_time'],i[1]['p_mile_time'], equal_var = False), sep='\\n')    \n",
    "    "
   ]
  },
  {
   "cell_type": "markdown",
   "metadata": {},
   "source": [
    "The analisys of the __means__ of the two different price tells us that,as could be predict, __the traffic has influence__ on the price of the run:\n",
    "\n",
    "     Manhattan price per mile: 6.72\n",
    "               price per mile per minute: 3.86\n",
    "\n",
    "That we can see,instead, is that in boroughs with not too much traffic as Manhattan like Brooklyn, the price for mile is __smaller__ than the one weighted:\n",
    "\n",
    "     Brooklyn price per mile: 6.10\n",
    "              price per mile per minute: 7.15\n",
    "          \n",
    "     Queens price per mile: 6.86\n",
    "              price per mile per minute: 17.92\n",
    "\n",
    "The effect of the weigthed price is that create a __great variance_ in the data \n",
    "\n",
    "From the __T-test__ taking from example the comparison between Manhattan and Brooklyn:\n",
    "                   \n",
    "     Manhattan-Brooklyn's price per mile p-value: 0.06\n",
    "                          price per mile per minute p-value: 0.29\n",
    "                          \n",
    "We can see that they could __seem to be different__, but when we weight the price we are not so sure about their difference.\n",
    "\n",
    "Instead if we look at Manhattan-Queens and Brooklyn-Queens:\n",
    "\n",
    "     Manhattan-Queens's price per mile p-value: 0.76\n",
    "                        price per mile per minute p-value: 0.001\n",
    "                        \n",
    "     Brooklyn-Queens's  price per mile p-value: 0.17\n",
    "                        price per mile per minute p-value: 0.04               \n",
    "                  \n",
    "What we deduce is that when we took off the variable of the time we can obviusly say that they are different and that on average __they have different price.__\n",
    "      \n",
    "        "
   ]
  }
 ],
 "metadata": {
  "kernelspec": {
   "display_name": "Python 3",
   "language": "python",
   "name": "python3"
  },
  "language_info": {
   "codemirror_mode": {
    "name": "ipython",
    "version": 3
   },
   "file_extension": ".py",
   "mimetype": "text/x-python",
   "name": "python",
   "nbconvert_exporter": "python",
   "pygments_lexer": "ipython3",
   "version": "3.6.4"
  }
 },
 "nbformat": 4,
 "nbformat_minor": 2
}
